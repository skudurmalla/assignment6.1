{
 "cells": [
  {
   "cell_type": "markdown",
   "metadata": {},
   "source": [
    "Problem Statement 1:\n",
    "\n",
    "Write a function so that the columns of the output matrix are powers of the input\n",
    "vector.\n",
    "The order of the powers is determined by the increasing boolean argument. Specifically,\n",
    "when increasing is False, the i-th output column is the input vector raised element-wise\n",
    "to the power of N - i - 1."
   ]
  },
  {
   "cell_type": "code",
   "execution_count": 27,
   "metadata": {},
   "outputs": [],
   "source": [
    "import numpy as np\n",
    "def my_vander(x, N=None, increasing=False):\n",
    "    \n",
    "    \"\"\" \n",
    "    This is the implementation of the Alexandre-Theophile Vandermonde matrix \n",
    "    in which columns of the output matrix are powers of the input vector.\n",
    "        \n",
    "    Arguments:\n",
    "    \n",
    "    x: One dimensional numpy array \n",
    "    \n",
    "    N: number of columns in the output.If N is not specified then N=len(x)\n",
    "       \n",
    "    Increasing: \n",
    "                By default the increasing is False,the powers decrease from left to right.\n",
    "                If increasing is True then it is reversed.\n",
    "     \n",
    "    output:\n",
    "    \n",
    "    It returns a n dimensional vandermonde matrix.If Increasing is False then elements of the column \n",
    "    are x^N-1,x^N-2,....x^0  If Increasing is True then elements of the column  \n",
    "    are x^0,x^1,......x^N-1.\n",
    "       \n",
    "    \"\"\"\n",
    "   \n",
    "    if x.ndim != 1:\n",
    "        return (\"x should be a one dimensional array or sequence.\") \n",
    "    \n",
    "    if N is None:\n",
    "        N=len(x)\n",
    "   \n",
    "    op = np.column_stack([x**(N-i-1) for i in range(N)])\n",
    "    if increasing:\n",
    "        y = op[:, ::-1]\n",
    "        return y\n",
    "    else:\n",
    "        return op\n",
    "\n"
   ]
  },
  {
   "cell_type": "code",
   "execution_count": 32,
   "metadata": {},
   "outputs": [
    {
     "name": "stdout",
     "output_type": "stream",
     "text": [
      "[[  1   1   1   1   1]\n",
      " [ 16   8   4   2   1]\n",
      " [ 81  27   9   3   1]\n",
      " [256  64  16   4   1]\n",
      " [625 125  25   5   1]]\n"
     ]
    }
   ],
   "source": [
    "#If N is None,it takes length of x\n",
    "\n",
    "x=np.array([1,2,3,4,5])\n",
    "output = my_vander(x)\n",
    "print(output)"
   ]
  },
  {
   "cell_type": "code",
   "execution_count": 33,
   "metadata": {},
   "outputs": [
    {
     "name": "stdout",
     "output_type": "stream",
     "text": [
      "x should be a one dimensional array or sequence.\n"
     ]
    }
   ],
   "source": [
    "#If x is not a one dimensional array\n",
    "\n",
    "x=np.array([[1,2,3,4],[2,3,4,5]])\n",
    "output = my_vander(x)\n",
    "print(output)"
   ]
  },
  {
   "cell_type": "code",
   "execution_count": 34,
   "metadata": {},
   "outputs": [
    {
     "name": "stdout",
     "output_type": "stream",
     "text": [
      "[[ 1  1  1]\n",
      " [ 1  2  4]\n",
      " [ 1  3  9]\n",
      " [ 1  4 16]]\n"
     ]
    }
   ],
   "source": [
    "#If Increasing is True and pass N value\n",
    "\n",
    "x=np.array([1,2,3,4])\n",
    "output = my_vander(x,3,increasing=True)\n",
    "print(output)"
   ]
  },
  {
   "cell_type": "code",
   "execution_count": 35,
   "metadata": {},
   "outputs": [
    {
     "name": "stdout",
     "output_type": "stream",
     "text": [
      "[[ 1  1  1]\n",
      " [ 4  2  1]\n",
      " [ 9  3  1]\n",
      " [16  4  1]]\n"
     ]
    }
   ],
   "source": [
    "#If Increasing is False and pass N value\n",
    "\n",
    "x = np.array([1,2,3,4])\n",
    "output = my_vander(x,3,increasing=False)\n",
    "print(output)"
   ]
  },
  {
   "cell_type": "code",
   "execution_count": null,
   "metadata": {},
   "outputs": [],
   "source": []
  },
  {
   "cell_type": "code",
   "execution_count": null,
   "metadata": {},
   "outputs": [],
   "source": []
  }
 ],
 "metadata": {
  "kernelspec": {
   "display_name": "Python 3",
   "language": "python",
   "name": "python3"
  },
  "language_info": {
   "codemirror_mode": {
    "name": "ipython",
    "version": 3
   },
   "file_extension": ".py",
   "mimetype": "text/x-python",
   "name": "python",
   "nbconvert_exporter": "python",
   "pygments_lexer": "ipython3",
   "version": "3.5.5"
  }
 },
 "nbformat": 4,
 "nbformat_minor": 2
}
